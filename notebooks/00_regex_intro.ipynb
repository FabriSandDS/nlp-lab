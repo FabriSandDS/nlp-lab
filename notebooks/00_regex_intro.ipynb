{
 "cells": [
  {
   "cell_type": "markdown",
   "id": "03a36749",
   "metadata": {},
   "source": [
    "### 📄 Dataset: Primer capítulo de *El Caballero de la Armadura Oxidada*\n",
    "\n",
    "Este archivo contiene el texto completo del primer capítulo de la obra *El Caballero de la Armadura Oxidada*, utilizado como base práctica para aplicar expresiones regulares.  \n",
    "El objetivo es identificar patrones, extraer elementos específicos del texto y realizar tareas de limpieza y segmentación utilizando la librería `re` de Python.\n"
   ]
  },
  {
   "cell_type": "code",
   "execution_count": 4,
   "id": "7c96756a",
   "metadata": {},
   "outputs": [],
   "source": [
    "with open(r'C:\\Proyectos_DS\\nlp-lab\\AV_NLP_LAB\\data\\Caballero_Cap_1.txt', 'r', encoding='utf-8') as file:\n",
    "    texto = file.read()"
   ]
  },
  {
   "cell_type": "code",
   "execution_count": null,
   "id": "108e5a4e",
   "metadata": {},
   "outputs": [],
   "source": [
    "import re\n",
    "re.findall(r'-.*', texto)"
   ]
  },
  {
   "cell_type": "code",
   "execution_count": 9,
   "id": "d183b5ec",
   "metadata": {},
   "outputs": [
    {
     "data": {
      "text/plain": [
       "['Nuestro caballero era famoso por su armadura. Reflejaba unos rayos de luz tan brillantes que la gente del',\n",
       " 'El caballero tenía una mujer fiel y bastante tolerante, Julieta, que escribía hermosos poemas, decía cosas',\n",
       " 'El caballero estaba inquieto. Finalmente, tomó una decisión. Continuar llevando la armadura no valía la',\n",
       " 'El caballero caminó de arriba abajo con gran agitación. ¿Cómo podía haber sucedido esto? Quizá no era tan',\n",
       " 'El caballero, que normalmente gustaba de bromear, arrugó el entrecejo.',\n",
       " 'El caballero se sintió muy turbado. El herrero era, con mucho, el hombre más fuerte del reino. Si él no podía',\n",
       " 'El caballero no sintió nada. Sólo cuando la salsa comenzó a chorrear por los orificios de la visera, se dio',\n",
       " 'El caballero se entristeció mucho porque Julieta no creía que estaba intentando quitarse la armadura. El',\n",
       " 'El caballero descartó una idea tras otra por considerarlas poco viables. Algunos planes eran realmente',\n",
       " 'El caballero quedó decepcionado por no haber podido ver al rey y perturbado por no poder unirse a él en la',\n",
       " 'El caballero sintió ganas de dejarse caer de su montura pero, por supuesto, la armadura se lo impedía.',\n",
       " 'El caballero detuvo su caballo bruscamente y, emocionado, regresó hacia Bolsalegre.']"
      ]
     },
     "execution_count": 9,
     "metadata": {},
     "output_type": "execute_result"
    }
   ],
   "source": [
    "re.findall(r'^(?:el|El|nuestro|Nuestro)\\s+[Cc]aballero.*', texto, flags=re.MULTILINE)"
   ]
  },
  {
   "cell_type": "code",
   "execution_count": 10,
   "id": "69b14986",
   "metadata": {},
   "outputs": [],
   "source": [
    "import spacy\n",
    "nlp = spacy.load('es_core_news_sm')"
   ]
  },
  {
   "cell_type": "code",
   "execution_count": 11,
   "id": "7d5c535f",
   "metadata": {},
   "outputs": [],
   "source": [
    "frases_caballero = ['Nuestro caballero era famoso por su armadura.'\n",
    "                   'El caballero tenía una mujer fiel y bastante tolerante' \n",
    "                   'El caballero estaba inquieto.'\n",
    "                    'El caballero detuvo su caballo bruscamente y, emocionado, regresó hacia Bolsalegre.']"
   ]
  },
  {
   "cell_type": "code",
   "execution_count": 15,
   "id": "52a75708",
   "metadata": {},
   "outputs": [
    {
     "name": "stdout",
     "output_type": "stream",
     "text": [
      "Frase: Nuestro caballero era famoso por su armadura.El caballero tenía una mujer fiel y bastante toleranteEl caballero estaba inquieto.El caballero detuvo su caballo bruscamente y, emocionado, regresó hacia Bolsalegre.\n",
      "famoso (ADJ)\n",
      "tenía (VERB)\n",
      "fiel (ADJ)\n",
      "inquieto (ADJ)\n",
      "detuvo (VERB)\n",
      "bruscamente (ADJ)\n",
      "emocionado (ADJ)\n",
      "regresó (VERB)\n"
     ]
    }
   ],
   "source": [
    "for frase in frases_caballero:\n",
    "    doc=nlp(frase)\n",
    "    print(f'Frase: {frase}')\n",
    "    for token in doc:\n",
    "        if token.pos_ in ['ADJ', 'VERB']:\n",
    "            print(f'{token.text} ({token.pos_})')"
   ]
  },
  {
   "cell_type": "code",
   "execution_count": null,
   "id": "6a12a40c",
   "metadata": {},
   "outputs": [],
   "source": []
  }
 ],
 "metadata": {
  "kernelspec": {
   "display_name": "AV_NLP_LAB",
   "language": "python",
   "name": "av_nlp_lab"
  },
  "language_info": {
   "codemirror_mode": {
    "name": "ipython",
    "version": 3
   },
   "file_extension": ".py",
   "mimetype": "text/x-python",
   "name": "python",
   "nbconvert_exporter": "python",
   "pygments_lexer": "ipython3",
   "version": "3.13.0"
  }
 },
 "nbformat": 4,
 "nbformat_minor": 5
}
