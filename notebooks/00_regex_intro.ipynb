{
 "cells": [
  {
   "cell_type": "markdown",
   "id": "03a36749",
   "metadata": {},
   "source": [
    "### 📄 Dataset: Primer capítulo de *El Caballero de la Armadura Oxidada*\n",
    "\n",
    "Este archivo contiene el texto completo del primer capítulo de la obra *El Caballero de la Armadura Oxidada*, utilizado como base práctica para aplicar expresiones regulares.  \n",
    "El objetivo es identificar patrones, extraer elementos específicos del texto y realizar tareas de limpieza y segmentación utilizando la librería `re` de Python.\n"
   ]
  },
  {
   "cell_type": "code",
   "execution_count": 3,
   "id": "7c96756a",
   "metadata": {},
   "outputs": [],
   "source": [
    "with open(r'C:\\Proyectos_DS\\nlp-lab\\data\\Caballero_Cap_1.txt', 'r', encoding='utf-8') as file:\n",
    "    texto = file.read()"
   ]
  },
  {
   "cell_type": "code",
   "execution_count": 4,
   "id": "108e5a4e",
   "metadata": {},
   "outputs": [
    {
     "data": {
      "text/plain": [
       "['- He aquí a tu padre - decía con un suspiro.',\n",
       " '-Ojalá pudiera a ver a padre en persona.',\n",
       " '-¡No puedes tenerlo todo! - respondió bruscamente Julieta.',\n",
       " '- Creo que amas más a tu armadura de lo que me amas a mí.',\n",
       " '- Eso no es verdad - respondió el caballero - ¿Acaso no te amé lo suficiente como para rescatarte de aquel',\n",
       " '- Lo que tu amabas - dijo Julieta, espiando a través de la visera para poder ver sus ojos - era la idea de',\n",
       " '- Sí que te amo - insistió el caballero, abrazándola torpemente con su fría y rígida armadura, casi',\n",
       " '-¡Entonces, quítate esa armadura para ver quién eres en realidad! - le exigió.',\n",
       " '- No puedo quitármela. Tengo que estar preparado para montar en mi caballo y partir en cualquier dirección -',\n",
       " '- Si no te quitas la armadura, cogeré a Cristóbal, subiré a mi caballo y me marcharé de tu vida.',\n",
       " '- Herrero - dijo el caballero - tengo un problema.',\n",
       " '- Sois un problema, señor - dijo socarronamente el herrero, con su tacto habitual.',\n",
       " '- No estoy de humor para tus bromas en estos momentos. Estoy atrapado en esta armadura - vociferó, al',\n",
       " '- Inténtalo otra vez - ordenó el caballero, sin darse cuenta de que el herrero le había golpeado porque estaba',\n",
       " '- Con gusto - dijo el herrero, balanceando un martillo en venganza y dejándolo caer con fuerza sobre el',\n",
       " '- Estáis en una situación difícil, caballero, pero no os deis por vencido. Regresad mañana cuando yo haya',\n",
       " '-¡No te creo, bestia ruidosa! -Gritó al tiempo que estrellaba el plato de puré de estofado de paloma contra su',\n",
       " '-¡Vaya con el hombre más fuerte del reino! ¡Ni siquiera puedes abrir este montón de lata! - gritó con',\n",
       " '- Tu hijo no tiene más que un retrato de su padre, y estoy harta de hablar con una visera cerrada. No pienso',\n",
       " '- No es mi culpa si estoy atrapado en esta armadura. Tenía que llevarla para estar siempre listo para la',\n",
       " '- No lo hacías por nosotros - argumentó Julieta, ¡Lo hacías por ti!.',\n",
       " '- Hola, Bolsalegre - dijo el caballero - He venido a decirle adiós al rey.',\n",
       " '- El rey se acaba de ir.',\n",
       " '- ¿Adónde ha ido? - preguntó el caballero.',\n",
       " '- A una cruzada ha partido.',\n",
       " '- Oh - suspiró. Podría morir de inanición dentro de esta armadura antes de que el rey llegara. - quizás no le',\n",
       " '- Sois una imagen triste de ver.',\n",
       " '- No estoy de humor para tus insultantes rimas - ladró el caballero, tenso dentro de su armadura - ¿No',\n",
       " '- A mí los problemas no me han de afectar.',\n",
       " '- Otra canción cantarías si fueras tú el que estuviera atrapado aquí - gruñó el caballero.',\n",
       " '- A todos, alguna armadura nos tiene atrapados.',\n",
       " '- No tengo tiempo de quedarme y oír tus tonterías. Tengo que encontrar la manera de salir de esta armadura.',\n",
       " '- Hay alguien que puede ayudaros, caballero, a sacar a la luz vuestro yo verdadero.',\n",
       " '- ¿conoces a alguien que me pueda sacar de esta armadura? ¿Quien es?',\n",
       " '- Tenéis que ver al mago Merlín, así lograréis ser libre al fin.',\n",
       " '- ¿Merlin? El único Merlin del que he oído hablar es el gran sabio, el maestro del Rey Arturo.',\n",
       " '- Si. Si, el mismo es.',\n",
       " '- ¡Pero no puede ser! -Exclamó el caballero - Merlin y el rey Arturo vivieron hace muchos años.',\n",
       " '- Es verdad, pero aún vive ahora. En los bosques el sabio mora.',\n",
       " '- Pero esos bosques son tan grandes... dijo el caballero - ¿cómo lo encontraré ahí?',\n",
       " '- aunque muy difícil ahora os parece. Cuando el alumno está preparado, el maestro aparece.',\n",
       " '- Ojalá Merlín apareciera pronto. Voy a buscarlo a él - dijo el caballero.',\n",
       " '- Lo siento.',\n",
       " '- Cuando la armadura desaparezca y estéis bien. Sentiréis el dolor de los otros también.',\n",
       " '- ¡Me voy! - dijo el caballero.']"
      ]
     },
     "execution_count": 4,
     "metadata": {},
     "output_type": "execute_result"
    }
   ],
   "source": [
    "import re\n",
    "re.findall(r'-.*', texto)"
   ]
  },
  {
   "cell_type": "code",
   "execution_count": 5,
   "id": "d183b5ec",
   "metadata": {},
   "outputs": [
    {
     "data": {
      "text/plain": [
       "['Nuestro caballero era famoso por su armadura. Reflejaba unos rayos de luz tan brillantes que la gente del',\n",
       " 'El caballero tenía una mujer fiel y bastante tolerante, Julieta, que escribía hermosos poemas, decía cosas',\n",
       " 'El caballero estaba inquieto. Finalmente, tomó una decisión. Continuar llevando la armadura no valía la',\n",
       " 'El caballero caminó de arriba abajo con gran agitación. ¿Cómo podía haber sucedido esto? Quizá no era tan',\n",
       " 'El caballero, que normalmente gustaba de bromear, arrugó el entrecejo.',\n",
       " 'El caballero se sintió muy turbado. El herrero era, con mucho, el hombre más fuerte del reino. Si él no podía',\n",
       " 'El caballero no sintió nada. Sólo cuando la salsa comenzó a chorrear por los orificios de la visera, se dio',\n",
       " 'El caballero se entristeció mucho porque Julieta no creía que estaba intentando quitarse la armadura. El',\n",
       " 'El caballero descartó una idea tras otra por considerarlas poco viables. Algunos planes eran realmente',\n",
       " 'El caballero quedó decepcionado por no haber podido ver al rey y perturbado por no poder unirse a él en la',\n",
       " 'El caballero sintió ganas de dejarse caer de su montura pero, por supuesto, la armadura se lo impedía.',\n",
       " 'El caballero detuvo su caballo bruscamente y, emocionado, regresó hacia Bolsalegre.']"
      ]
     },
     "execution_count": 5,
     "metadata": {},
     "output_type": "execute_result"
    }
   ],
   "source": [
    "re.findall(r'^(?:el|El|nuestro|Nuestro)\\s+[Cc]aballero.*', texto, flags=re.MULTILINE)"
   ]
  },
  {
   "cell_type": "code",
   "execution_count": 6,
   "id": "69b14986",
   "metadata": {},
   "outputs": [],
   "source": [
    "import spacy\n",
    "nlp = spacy.load('es_core_news_sm')"
   ]
  },
  {
   "cell_type": "code",
   "execution_count": 7,
   "id": "7d5c535f",
   "metadata": {},
   "outputs": [],
   "source": [
    "frases_caballero = ['Nuestro caballero era famoso por su armadura.'\n",
    "                   'El caballero tenía una mujer fiel y bastante tolerante' \n",
    "                   'El caballero estaba inquieto.'\n",
    "                    'El caballero detuvo su caballo bruscamente y, emocionado, regresó hacia Bolsalegre.']"
   ]
  },
  {
   "cell_type": "code",
   "execution_count": 8,
   "id": "52a75708",
   "metadata": {},
   "outputs": [
    {
     "name": "stdout",
     "output_type": "stream",
     "text": [
      "Frase: Nuestro caballero era famoso por su armadura.El caballero tenía una mujer fiel y bastante toleranteEl caballero estaba inquieto.El caballero detuvo su caballo bruscamente y, emocionado, regresó hacia Bolsalegre.\n",
      "famoso (ADJ)\n",
      "tenía (VERB)\n",
      "fiel (ADJ)\n",
      "inquieto (ADJ)\n",
      "detuvo (VERB)\n",
      "bruscamente (ADJ)\n",
      "emocionado (ADJ)\n",
      "regresó (VERB)\n"
     ]
    }
   ],
   "source": [
    "for frase in frases_caballero:\n",
    "    doc=nlp(frase)\n",
    "    print(f'Frase: {frase}')\n",
    "    for token in doc:\n",
    "        if token.pos_ in ['ADJ', 'VERB']:\n",
    "            print(f'{token.text} ({token.pos_})')"
   ]
  },
  {
   "cell_type": "code",
   "execution_count": 118,
   "id": "6a12a40c",
   "metadata": {},
   "outputs": [],
   "source": [
    "regex_1 = r'.* caballero+.+despedirse+.*\\.'"
   ]
  },
  {
   "cell_type": "code",
   "execution_count": 119,
   "id": "b7f8586a",
   "metadata": {},
   "outputs": [
    {
     "name": "stdout",
     "output_type": "stream",
     "text": [
      "['Al salir de la provincia, el caballero se detuvo para despedirse del rey, que había sido muy bueno con él.']\n"
     ]
    }
   ],
   "source": [
    "findall=re.findall(regex_1, texto)\n",
    "print(findall)"
   ]
  },
  {
   "cell_type": "code",
   "execution_count": 84,
   "id": "5f19c9d8",
   "metadata": {},
   "outputs": [],
   "source": [
    "regex_merlin = r'[M|m]erlin'"
   ]
  },
  {
   "cell_type": "code",
   "execution_count": 85,
   "id": "dcc8a3bd",
   "metadata": {},
   "outputs": [
    {
     "name": "stdout",
     "output_type": "stream",
     "text": [
      "['Merlin', 'Merlin', 'Merlin']\n"
     ]
    }
   ],
   "source": [
    "findall=re.findall(regex_merlin, texto)\n",
    "print(findall)"
   ]
  },
  {
   "cell_type": "code",
   "execution_count": 106,
   "id": "a5ee01d0",
   "metadata": {},
   "outputs": [],
   "source": [
    "Regex_preguntas = r'¿.*?\\?'"
   ]
  },
  {
   "cell_type": "code",
   "execution_count": 107,
   "id": "5e8430d2",
   "metadata": {},
   "outputs": [
    {
     "name": "stdout",
     "output_type": "stream",
     "text": [
      "['¿Por qué no se daba cuenta Julieta de ninguna de estas cualidades?', '¿Cómo podía haber sucedido esto?', '¿quién podría?', '¿Adónde ha ido?', '¿conoces a alguien que me pueda sacar de esta armadura?', '¿Quien es?', '¿Merlin?', '¿cómo lo encontraré ahí?']\n"
     ]
    }
   ],
   "source": [
    "findall=re.findall(Regex_preguntas, texto)\n",
    "print(findall)"
   ]
  }
 ],
 "metadata": {
  "kernelspec": {
   "display_name": "AV_NLP_LAB",
   "language": "python",
   "name": "av_nlp_lab"
  },
  "language_info": {
   "codemirror_mode": {
    "name": "ipython",
    "version": 3
   },
   "file_extension": ".py",
   "mimetype": "text/x-python",
   "name": "python",
   "nbconvert_exporter": "python",
   "pygments_lexer": "ipython3",
   "version": "3.13.0"
  }
 },
 "nbformat": 4,
 "nbformat_minor": 5
}
